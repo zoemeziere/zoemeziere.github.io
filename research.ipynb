{
  "cells": [
    {
      "cell_type": "raw",
      "metadata": {},
      "source": [
        "---\n",
        "title: \"Research\"\n",
        "---"
      ],
      "id": "c0a1c605"
    },
    {
      "cell_type": "markdown",
      "metadata": {},
      "source": [
        "```{=html}\n",
        "<style>\n",
        "\n",
        ".add-space{\n",
        "\n",
        "padding-right: 5%;\n",
        "\n",
        "}\n",
        "\n",
        "</style>\n",
        "```\n",
        "\n",
        "```{css, echo = FALSE}\n",
        ".justify {\n",
        "  text-align: justify !important\n",
        "}\n",
        "```\n",
        "\n",
        "\n",
        "::: justify\n",
        "## Cryptic speciation in *Stylophora pistillata*\n",
        "\n",
        "::: {.column .add-space width=\"65%\"}\n",
        "For the first PhD chapter, I extensively sampled *Stylophora pistillata* colonies across diverse habitats and at multiple reefs of the Great Barrier Reef. With a final dataset of 379 individuals and 5,332 SNPs obtained from reduced representation (ddRAD) sequencing, I discovered five distinct taxa, with wide geographic ranges and extensive sympatry. I used demographic modelling to investigate divergence histories and found that speciation events have occurred with ongoing or episodic gene flow and that these taxa are at different stages along a divergence continuum. In addition, significant correlations between genetic divergence and environmental variables suggest that niche partitioning may have played a role in speciation and that *S. pistillata* taxa might be differentially adapted to their environment.\n",
        ":::\n",
        "\n",
        "::: {.column width=\"30%\"}\n",
        "![](img/Sytylo_macro.png){width=\"10.7cm\"}\n",
        ":::\n",
        "\n",
        "## Dispersal, gene flow and genetic diversity in *Stylophora pistillata* and *Pocillopora verrucosa*\n",
        "\n",
        "::: {.column .add-space width=\"65%\"}\n",
        "Watch this space!\n",
        ":::\n",
        "\n",
        "::: {.column width=\"30%\"}\n",
        "![](img/PverSpis.jpg){width=\"13.3cm\"}\n",
        ":::\n",
        "\n",
        "## Long-term coral common garden experiment\n",
        "\n",
        "::: {.column .add-space width=\"65%\"}\n",
        "Watch this space!\n",
        ":::\n",
        "\n",
        "::: {.column width=\"30%\"}\n",
        "Insert image here\n",
        ":::\n",
        ":::"
      ],
      "id": "11e5c2ab"
    }
  ],
  "metadata": {
    "kernelspec": {
      "display_name": "Python 3",
      "language": "python",
      "name": "python3"
    }
  },
  "nbformat": 4,
  "nbformat_minor": 5
}